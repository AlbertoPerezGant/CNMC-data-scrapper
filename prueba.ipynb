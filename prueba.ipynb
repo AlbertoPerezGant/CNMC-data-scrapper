{
 "cells": [
  {
   "cell_type": "code",
   "execution_count": 39,
   "metadata": {},
   "outputs": [],
   "source": [
    "# Importación de liberías\n",
    "import pandas as pd\n",
    "import bs4\n",
    "import requests as rq\n",
    "from bs4 import BeautifulSoup\n",
    "import selenium \n",
    "from selenium import webdriver as wb\n",
    "from selenium.webdriver.common.by import By # Para poder usar el By\n",
    "from selenium import selenium\n",
    "\n"
   ]
  },
  {
   "cell_type": "code",
   "execution_count": 40,
   "metadata": {},
   "outputs": [],
   "source": [
    "# Definición de la url base\n",
    "url_base = 'https://comparador.cnmc.gob.es/'"
   ]
  },
  {
   "cell_type": "code",
   "execution_count": 41,
   "metadata": {},
   "outputs": [],
   "source": [
    "# Se abre la url base del comparador en el Chrome:\n",
    "def inicio_sesion (url_base):\n",
    "    pagina = wb.Chrome()\n",
    "    pagina.get(url_base)\n",
    "    return pagina"
   ]
  },
  {
   "cell_type": "code",
   "execution_count": 49,
   "metadata": {},
   "outputs": [],
   "source": [
    "# Se aceptan las cookies:\n",
    "def aceptar_cookies (sesion):\n",
    "    aceptar_cookies = sesion.find_element(By.CLASS_NAME,'cookiesjsr-btn.important').click()\n",
    "    return aceptar_cookies"
   ]
  },
  {
   "cell_type": "code",
   "execution_count": 51,
   "metadata": {},
   "outputs": [],
   "source": [
    "# Se rechazan las cookies:\n",
    "def rechazar_cookies (sesion):\n",
    "    rechazar_cookies = sesion.find_element(By.CLASS_NAME,'cookiesjsr-btn').click()\n",
    "    return rechazar_cookies"
   ]
  },
  {
   "cell_type": "code",
   "execution_count": 94,
   "metadata": {},
   "outputs": [],
   "source": [
    "def pedir_oferta():\n",
    "    mensaje = print(\"¿Qué oferta desea comprobar? Pulse E para Electricidad, G para Gas o A para ambas\")\n",
    "    print(\"\")\n",
    "    entrada = input()\n",
    "    if entrada not in(\"A\", \"E\", \"G\"):\n",
    "        print (\"Opción incorrecta\")\n",
    "        breakpoint \n",
    "    else: return entrada"
   ]
  },
  {
   "cell_type": "code",
   "execution_count": 78,
   "metadata": {},
   "outputs": [],
   "source": [
    "# Se selecciona el tipo de oferta:\n",
    "def tipo_suministro (sesion, oferta):\n",
    "    suministro = sesion.find_element(By.NAME,'v-list-item__title')\n",
    "    if oferta == 'E':\n",
    "        suministro\n",
    "       \n",
    "\n",
    "    return suministro"
   ]
  },
  {
   "cell_type": "code",
   "execution_count": 98,
   "metadata": {},
   "outputs": [
    {
     "name": "stdout",
     "output_type": "stream",
     "text": [
      "¿Qué oferta desea comprobar? Pulse E para Electricidad, G para Gas o A para ambas\n",
      "\n"
     ]
    }
   ],
   "source": [
    "sesion = inicio_sesion(url_base)\n",
    "rechazar_cookies(sesion)\n",
    "oferta = pedir_oferta()\n"
   ]
  },
  {
   "cell_type": "code",
   "execution_count": 112,
   "metadata": {},
   "outputs": [
    {
     "data": {
      "text/plain": [
       "[]"
      ]
     },
     "execution_count": 112,
     "metadata": {},
     "output_type": "execute_result"
    }
   ],
   "source": [
    "sesion = inicio_sesion(url_base)\n",
    "suministro = sesion.find_elements(By.CLASS_NAME,'v-list-item__content')\n",
    "suministro"
   ]
  }
 ],
 "metadata": {
  "kernelspec": {
   "display_name": "Python 3.10.8 64-bit (microsoft store)",
   "language": "python",
   "name": "python3"
  },
  "language_info": {
   "codemirror_mode": {
    "name": "ipython",
    "version": 3
   },
   "file_extension": ".py",
   "mimetype": "text/x-python",
   "name": "python",
   "nbconvert_exporter": "python",
   "pygments_lexer": "ipython3",
   "version": "3.10.8"
  },
  "orig_nbformat": 4,
  "vscode": {
   "interpreter": {
    "hash": "8ac413615153002ca502cac2bb19de643f3350f8847e65fbb869d7e7bd173959"
   }
  }
 },
 "nbformat": 4,
 "nbformat_minor": 2
}
