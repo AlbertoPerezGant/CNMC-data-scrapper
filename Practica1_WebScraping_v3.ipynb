{
 "cells": [
  {
   "cell_type": "code",
   "execution_count": null,
   "metadata": {},
   "outputs": [],
   "source": [
    "# Función con BeautifulSoup para extraer la información de las ofertas de Gas.\n",
    "def get_gas_table(driver):\n",
    "        html = driver.page_source\n",
    "        soup = BeautifulSoup(html, \"html.parser\")\n",
    "        body = soup.find_all('tbody', attrs={'class': ''})\n",
    "        head = soup.find_all('thead', attrs={'class': 'v-data-table-header'})\n",
    "        for table in head:\n",
    "                rows = table.find_all('th')\n",
    "                headers_list = []\n",
    "                for row in rows:\n",
    "                        headers = row.find('span').text\n",
    "                        headers_list.append(headers)\n",
    "        for table in body:\n",
    "                rows = table.find_all('tr', attrs={'class': ''})\n",
    "                table_list = []\n",
    "                for row in rows:\n",
    "                        row_list = []\n",
    "                        data = row.find_all('td',attrs={'class': 'text-center'})\n",
    "                        for elem in data:\n",
    "                                if data[0] == elem:\n",
    "                                        if elem.find('img'):\n",
    "                                                company = elem.find('img')['alt']\n",
    "                                                row_list.append(company)\n",
    "                                        else:\n",
    "                                                company = elem.find('p').text.lstrip().rstrip()\n",
    "                                                row_list.append(company)\n",
    "                                elif data[1] == elem:\n",
    "                                        oferta = elem.find('a').text.lstrip().rstrip()\n",
    "                                        row_list.append(oferta)\n",
    "                                elif data[2] == elem:\n",
    "                                        price = elem.find('p').text.lstrip().rstrip()\n",
    "                                        row_list.append(price)\n",
    "                                elif data[3] == elem:\n",
    "                                        price_2 = elem.find('div').text.lstrip().rstrip()\n",
    "                                        row_list.append(price_2)\n",
    "                                elif data[4] == elem:\n",
    "                                        validez = elem.find('div').text.lstrip().rstrip()\n",
    "                                        row_list.append(validez)\n",
    "                                elif data[5] == elem:\n",
    "                                        servicios_adicionales = elem.find('div').text.lstrip().rstrip()\n",
    "                                        row_list.append(servicios_adicionales)\n",
    "                                elif data[6] == elem:\n",
    "                                        penality = elem.find('div').text.lstrip().rstrip()\n",
    "                                        row_list.append(penality)\n",
    "                                else:\n",
    "                                        row_list.append(elem.string)\n",
    "                        table_list.append(row_list)\n",
    "        \n",
    "        df_gas = pd.DataFrame(table_list)\n",
    "        df_gas.columns= headers_list\n",
    "        df_gas.to_csv(df_gas)\n",
    "        return df_gas           \n",
    "                "
   ]
  },
  {
   "cell_type": "code",
   "execution_count": null,
   "metadata": {},
   "outputs": [],
   "source": [
    "# Main principal de gas\n",
    "def gest_comparator_gas():\n",
    "    driver = init_driver(url)\n",
    "    accept_cookies(driver)\n",
    "    sleep(1)\n",
    "    selecct_sum(driver)\n",
    "    sleep(2)\n",
    "    select_gas(driver)\n",
    "    sleep(1)\n",
    "    iniciar(driver)\n",
    "    sleep(2)\n",
    "    type_postal_code(driver)\n",
    "    sleep(2)\n",
    "    continue_to_page(driver)\n",
    "    sleep(2)\n",
    "    get_gas_table(driver)\n",
    "    sleep(10)\n",
    "    close_driver(driver)"
   ]
  },
  {
   "cell_type": "code",
   "execution_count": null,
   "metadata": {},
   "outputs": [],
   "source": [
    "# Main principal\n",
    "gest_comparator_elect()\n",
    "sleep(45)\n",
    "gest_comparator_gas()\n",
    "sleep(45)\n",
    "gest_comparator_both()\n"
   ]
  }
 ],
 "metadata": {
  "kernelspec": {
   "display_name": "Python 3.10.8 64-bit (microsoft store)",
   "language": "python",
   "name": "python3"
  },
  "language_info": {
   "name": "python",
   "version": "3.10.8"
  },
  "orig_nbformat": 4,
  "vscode": {
   "interpreter": {
    "hash": "8ac413615153002ca502cac2bb19de643f3350f8847e65fbb869d7e7bd173959"
   }
  }
 },
 "nbformat": 4,
 "nbformat_minor": 2
}
