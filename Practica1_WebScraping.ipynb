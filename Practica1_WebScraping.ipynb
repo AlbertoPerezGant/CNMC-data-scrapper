{
 "cells": [
  {
   "cell_type": "code",
   "execution_count": 39,
   "metadata": {},
   "outputs": [],
   "source": [
    "# Importación de liberías\n",
    "import pandas as pd\n",
    "import bs4\n",
    "import requests as rq\n",
    "from bs4 import BeautifulSoup\n",
    "import selenium \n",
    "from selenium import webdriver as wb\n",
    "from selenium.webdriver.common.by import By # Para poder usar el By\n",
    "import time"
   ]
  },
  {
   "cell_type": "code",
   "execution_count": 40,
   "metadata": {},
   "outputs": [],
   "source": [
    "# Definición de la url base\n",
    "url_base = 'https://comparador.cnmc.gob.es/'"
   ]
  },
  {
   "cell_type": "code",
   "execution_count": 41,
   "metadata": {},
   "outputs": [],
   "source": [
    "# Se abre la url base del comparador en el Chrome:\n",
    "def inicio_sesion (url_base):\n",
    "    pagina = wb.Chrome()\n",
    "    pagina.get(url_base)\n",
    "    return pagina"
   ]
  },
  {
   "cell_type": "code",
   "execution_count": 42,
   "metadata": {},
   "outputs": [],
   "source": [
    "# Se aceptan las cookies:\n",
    "def aceptar_cookies (sesion):\n",
    "    aceptar_cookies = sesion.find_element(By.CLASS_NAME,'cookiesjsr-btn.important').click()\n",
    "    return aceptar_cookies"
   ]
  },
  {
   "cell_type": "code",
   "execution_count": 43,
   "metadata": {},
   "outputs": [],
   "source": [
    "# Se rechazan las cookies:\n",
    "def rechazar_cookies (sesion):\n",
    "    rechazar_cookies = sesion.find_element(By.CLASS_NAME,'cookiesjsr-btn').click()\n",
    "    return rechazar_cookies"
   ]
  },
  {
   "cell_type": "code",
   "execution_count": 44,
   "metadata": {},
   "outputs": [],
   "source": [
    "# Se pide la oferta en caso de que se necesite:\n",
    "def pedir_oferta():\n",
    "    mensaje = print(\"¿Qué oferta desea comprobar? Pulse E para Electricidad, G para Gas o A para ambas\")\n",
    "    print(\"\")\n",
    "    entrada = input()\n",
    "    if entrada not in(\"A\", \"E\", \"G\"):\n",
    "        print (\"Opción incorrecta\")\n",
    "        breakpoint \n",
    "    else: return entrada"
   ]
  },
  {
   "cell_type": "code",
   "execution_count": 45,
   "metadata": {},
   "outputs": [],
   "source": [
    "# Se hace click en el botón para desplegar la lista de tipo de suministro que se desea contratar:\n",
    "def click_tipo_suministro(sesion):\n",
    "    suministro = sesion.find_element(By.CLASS_NAME,'v-input__append-inner').click()\n",
    "    return suministro"
   ]
  },
  {
   "cell_type": "code",
   "execution_count": 46,
   "metadata": {},
   "outputs": [],
   "source": [
    "# Se selecciona el tipo de oferta de electricidad:\n",
    "def tipo_suministro_elec (sesion):\n",
    "    SelectedValueElec = sesion.find_element(By.ID,'list-item-59-0').click()\n",
    "    return SelectedValueElec"
   ]
  },
  {
   "cell_type": "code",
   "execution_count": 47,
   "metadata": {},
   "outputs": [],
   "source": [
    "# Se selecciona el tipo de oferta de gas:\n",
    "def tipo_suministro_gas (sesion):\n",
    "    SelectedValueGas = sesion.find_element(By.ID,'list-item-59-1').click()\n",
    "    return SelectedValueGas"
   ]
  },
  {
   "cell_type": "code",
   "execution_count": 48,
   "metadata": {},
   "outputs": [],
   "source": [
    "# Se selecciona el tipo de oferta de electricidad y gas:\n",
    "def tipo_suministro_dual (sesion):\n",
    "    SelectedValueDual = sesion.find_element(By.ID,'list-item-59-2').click()\n",
    "    return SelectedValueDual"
   ]
  },
  {
   "cell_type": "code",
   "execution_count": 49,
   "metadata": {},
   "outputs": [],
   "source": [
    "# Se hace click en el botón iniciar para iniciar la consulta de la oferta:\n",
    "def click_inicio_oferta(sesion):\n",
    "    click_inicio = sesion.find_element(By.ID,'Iniciar').click()\n",
    "    return click_inicio"
   ]
  },
  {
   "cell_type": "code",
   "execution_count": 50,
   "metadata": {},
   "outputs": [],
   "source": [
    "# Se inserta un código postal:\n",
    "def insertar_cod_post(sesion,CodPost):\n",
    "    cod_post = sesion.find_element(By.NAME,'codigoPostal')\n",
    "    cod_post.click()\n",
    "    time.sleep(2)\n",
    "    cod_post.send_keys(CodPost)\n",
    "    return cod_post"
   ]
  },
  {
   "cell_type": "code",
   "execution_count": 51,
   "metadata": {},
   "outputs": [],
   "source": [
    "# Se hace click en el botón para continuar:\n",
    "def click_continuar(sesion):\n",
    "    continuar = sesion.find_element(By.ID,'Continuar').click()\n",
    "    return continuar"
   ]
  },
  {
   "cell_type": "code",
   "execution_count": 52,
   "metadata": {},
   "outputs": [],
   "source": [
    "# Se activa el flag de leído el aviso:\n",
    "def seleccion_check(sesion):\n",
    "    check = sesion.find_element(By.CLASS_NAME,'v-input--selection-controls__ripple').click()\n",
    "    return check\n"
   ]
  },
  {
   "cell_type": "code",
   "execution_count": 53,
   "metadata": {},
   "outputs": [],
   "source": [
    "# Se hace click en el botón para continuar:\n",
    "def click_continuar_acept(sesion):\n",
    "    continuar_acept = sesion.find_element(By.ID,'Continuar').click()\n",
    "    return continuar_acept"
   ]
  },
  {
   "cell_type": "code",
   "execution_count": 54,
   "metadata": {},
   "outputs": [],
   "source": [
    "def cerrar_sesion(sesion):\n",
    "    cierre = sesion.close()\n",
    "    return cierre"
   ]
  },
  {
   "cell_type": "code",
   "execution_count": 55,
   "metadata": {},
   "outputs": [],
   "source": [
    "# Se inicia la sesió para electricidad:\n",
    "\n",
    "sesion_elec = inicio_sesion(url_base)\n",
    "rechazar_cookies(sesion_elec)\n",
    "time.sleep(2)\n",
    "click_tipo_suministro(sesion_elec)\n",
    "time.sleep(1)\n",
    "tipo_suministro_elec (sesion_elec)\n",
    "time.sleep(1)\n",
    "click_inicio_oferta(sesion_elec)\n",
    "time.sleep(2)\n",
    "insertar_cod_post(sesion_elec,'08035')\n",
    "time.sleep(2)\n",
    "click_continuar(sesion_elec)\n",
    "time.sleep(2)\n",
    "seleccion_check(sesion_elec)\n",
    "time.sleep(3)\n",
    "#click_continuar_acept(sesion_elec)\n",
    "#cerrar_sesion(sesion_elec)\n",
    "\n",
    "\n",
    "time.sleep(7)"
   ]
  },
  {
   "cell_type": "code",
   "execution_count": 56,
   "metadata": {},
   "outputs": [],
   "source": [
    "# Se inicia la sesión para gas:\n",
    "\n",
    "sesion_gas = inicio_sesion(url_base)\n",
    "rechazar_cookies(sesion_gas)\n",
    "time.sleep(2)\n",
    "click_tipo_suministro(sesion_gas)\n",
    "time.sleep(1)\n",
    "tipo_suministro_gas (sesion_gas)\n",
    "time.sleep(1)\n",
    "click_inicio_oferta(sesion_gas)\n",
    "time.sleep(2)\n",
    "insertar_cod_post(sesion_gas,'08035')\n",
    "time.sleep(2)\n",
    "click_continuar(sesion_gas)\n",
    "#cerrar_sesion(sesion_gas)\n",
    "time.sleep(7)"
   ]
  },
  {
   "cell_type": "code",
   "execution_count": 57,
   "metadata": {},
   "outputs": [],
   "source": [
    "sesion_dual = inicio_sesion(url_base)\n",
    "rechazar_cookies(sesion_dual)\n",
    "time.sleep(2)\n",
    "click_tipo_suministro(sesion_dual)\n",
    "time.sleep(1)\n",
    "tipo_suministro_dual(sesion_dual)\n",
    "time.sleep(1)\n",
    "click_inicio_oferta(sesion_dual)\n",
    "time.sleep(2)\n",
    "insertar_cod_post(sesion_dual,'08035')\n",
    "time.sleep(2)\n",
    "click_continuar(sesion_dual)\n",
    "time.sleep(2)\n",
    "seleccion_check(sesion_dual)\n",
    "time.sleep(3)\n",
    "#click_continuar_acept(sesion_dual)\n",
    "#cerrar_sesion(sesion_dual)"
   ]
  }
 ],
 "metadata": {
  "kernelspec": {
   "display_name": "Python 3.10.8 64-bit (microsoft store)",
   "language": "python",
   "name": "python3"
  },
  "language_info": {
   "codemirror_mode": {
    "name": "ipython",
    "version": 3
   },
   "file_extension": ".py",
   "mimetype": "text/x-python",
   "name": "python",
   "nbconvert_exporter": "python",
   "pygments_lexer": "ipython3",
   "version": "3.10.8"
  },
  "orig_nbformat": 4,
  "vscode": {
   "interpreter": {
    "hash": "8ac413615153002ca502cac2bb19de643f3350f8847e65fbb869d7e7bd173959"
   }
  }
 },
 "nbformat": 4,
 "nbformat_minor": 2
}
