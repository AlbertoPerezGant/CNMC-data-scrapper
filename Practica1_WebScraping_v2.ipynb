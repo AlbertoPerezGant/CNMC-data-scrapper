{
 "cells": [
  {
   "cell_type": "code",
   "execution_count": 148,
   "metadata": {},
   "outputs": [],
   "source": [
    "# Importación de liberías\n",
    "import pandas as pd\n",
    "import requests as rq\n",
    "from bs4 import BeautifulSoup \n",
    "from selenium import webdriver as wb\n",
    "from selenium.webdriver.common.by import By # Para poder usar el By\n",
    "import time\n",
    "import urllib"
   ]
  },
  {
   "cell_type": "code",
   "execution_count": 59,
   "metadata": {},
   "outputs": [],
   "source": [
    "# Definición de la url base\n",
    "url_base = 'https://comparador.cnmc.gob.es/'"
   ]
  },
  {
   "cell_type": "code",
   "execution_count": 60,
   "metadata": {},
   "outputs": [],
   "source": [
    "# Se abre la url base del comparador en el Chrome:\n",
    "def inicio_sesion (url_base):\n",
    "    pagina = wb.Chrome()\n",
    "    pagina.get(url_base)\n",
    "    return pagina"
   ]
  },
  {
   "cell_type": "code",
   "execution_count": 61,
   "metadata": {},
   "outputs": [],
   "source": [
    "# Se aceptan las cookies:\n",
    "def aceptar_cookies (sesion):\n",
    "    aceptar_cookies = sesion.find_element(By.CLASS_NAME,'cookiesjsr-btn.important').click()\n",
    "    return aceptar_cookies"
   ]
  },
  {
   "cell_type": "code",
   "execution_count": 62,
   "metadata": {},
   "outputs": [],
   "source": [
    "# Se rechazan las cookies:\n",
    "def rechazar_cookies (sesion):\n",
    "    rechazar_cookies = sesion.find_element(By.CLASS_NAME,'cookiesjsr-btn').click()\n",
    "    return rechazar_cookies"
   ]
  },
  {
   "cell_type": "code",
   "execution_count": 63,
   "metadata": {},
   "outputs": [],
   "source": [
    "# Se hace click en el botón para desplegar la lista de tipo de suministro que se desea contratar:\n",
    "def click_tipo_suministro(sesion):\n",
    "    suministro = sesion.find_element(By.CLASS_NAME,'v-input__append-inner').click()\n",
    "    return suministro"
   ]
  },
  {
   "cell_type": "code",
   "execution_count": 64,
   "metadata": {},
   "outputs": [],
   "source": [
    "# Se selecciona el tipo de oferta de gas:\n",
    "def tipo_suministro_gas (sesion):\n",
    "    SelectedValueGas = sesion.find_element(By.ID,'list-item-59-1').click()\n",
    "    return SelectedValueGas"
   ]
  },
  {
   "cell_type": "code",
   "execution_count": 65,
   "metadata": {},
   "outputs": [],
   "source": [
    "# Se selecciona el tipo de oferta de electricidad y gas:\n",
    "def tipo_suministro_dual (sesion):\n",
    "    SelectedValueDual = sesion.find_element(By.ID,'list-item-59-2').click()\n",
    "    return SelectedValueDual"
   ]
  },
  {
   "cell_type": "code",
   "execution_count": 66,
   "metadata": {},
   "outputs": [],
   "source": [
    "# Se hace click en el botón iniciar para iniciar la consulta de la oferta:\n",
    "def click_inicio_oferta(sesion):\n",
    "    click_inicio = sesion.find_element(By.ID,'Iniciar').click()\n",
    "    return click_inicio"
   ]
  },
  {
   "cell_type": "code",
   "execution_count": 67,
   "metadata": {},
   "outputs": [],
   "source": [
    "# Se inserta un código postal:\n",
    "def insertar_cod_post(sesion,CodPost):\n",
    "    cod_post = sesion.find_element(By.NAME,'codigoPostal')\n",
    "    cod_post.click()\n",
    "    time.sleep(2)\n",
    "    cod_post.send_keys(CodPost)\n",
    "    return cod_post"
   ]
  },
  {
   "cell_type": "code",
   "execution_count": 68,
   "metadata": {},
   "outputs": [],
   "source": [
    "# Se hace click en el botón para continuar:\n",
    "def click_continuar(sesion):\n",
    "    continuar = sesion.find_element(By.ID,'Continuar').click()\n",
    "    return continuar"
   ]
  },
  {
   "cell_type": "code",
   "execution_count": 69,
   "metadata": {},
   "outputs": [],
   "source": [
    "# Se activa el flag de leído el aviso:\n",
    "def seleccion_check(sesion):\n",
    "    check = sesion.find_element(By.CLASS_NAME,'v-input--selection-controls__ripple').click()\n",
    "    return check\n"
   ]
  },
  {
   "cell_type": "code",
   "execution_count": 70,
   "metadata": {},
   "outputs": [],
   "source": [
    "#Continúa desde el formulario hasta la siguiente página\n",
    "def continue_to_page(driver):\n",
    "    driver.find_element(By.ID, \"Continuar\").click()\n",
    "    time.sleep(1)\n",
    "    driver.find_element(By.CLASS_NAME, \"v-input--selection-controls__ripple\").click()\n",
    "    time.sleep(1)\n",
    "    driver.find_element(By.XPATH, \"(.//*[normalize-space(text()) and normalize-space(.)='He leído este aviso'])[1]/following::span[2]\").click()\n",
    "    return driver"
   ]
  },
  {
   "cell_type": "code",
   "execution_count": 71,
   "metadata": {},
   "outputs": [],
   "source": [
    "# Se hace click en el botón para continuar:\n",
    "def click_continuar_acept(sesion):\n",
    "    continuar_acept = sesion.find_element(By.XPATH, \"(.//*[normalize-space(text()) and normalize-space(.)='He leído este aviso'])[1]/following::span[2]\").click()\n",
    "    return continuar_acept"
   ]
  },
  {
   "cell_type": "code",
   "execution_count": 72,
   "metadata": {},
   "outputs": [],
   "source": [
    "# Se cierra a sesión:\n",
    "def cerrar_sesion(sesion):\n",
    "    cierre = sesion.close()\n",
    "    return cierre"
   ]
  },
  {
   "cell_type": "code",
   "execution_count": 151,
   "metadata": {},
   "outputs": [],
   "source": [
    "# Se inicia la sesión para gas:\n",
    "\n",
    "sesion_gas = inicio_sesion(url_base)\n",
    "rechazar_cookies(sesion_gas)\n",
    "time.sleep(2)\n",
    "click_tipo_suministro(sesion_gas)\n",
    "time.sleep(1)\n",
    "tipo_suministro_gas (sesion_gas)\n",
    "time.sleep(1)\n",
    "click_inicio_oferta(sesion_gas)\n",
    "time.sleep(2)\n",
    "insertar_cod_post(sesion_gas,'08035')\n",
    "time.sleep(2)\n",
    "click_continuar(sesion_gas)\n",
    "#cerrar_sesion(sesion_gas)\n",
    "\n",
    "time.sleep(7)"
   ]
  },
  {
   "cell_type": "markdown",
   "metadata": {},
   "source": [
    "# Se inicia la sesión para ofertas conjuntas:\n",
    "sesion_dual = inicio_sesion(url_base)\n",
    "rechazar_cookies(sesion_dual)\n",
    "time.sleep(2)\n",
    "click_tipo_suministro(sesion_dual)\n",
    "time.sleep(1)\n",
    "tipo_suministro_dual(sesion_dual)\n",
    "time.sleep(1)\n",
    "click_inicio_oferta(sesion_dual)\n",
    "time.sleep(2)\n",
    "insertar_cod_post(sesion_dual,'08035')\n",
    "time.sleep(2)\n",
    "click_continuar(sesion_dual)\n",
    "time.sleep(2)\n",
    "seleccion_check(sesion_dual)\n",
    "time.sleep(3)\n",
    "#click_continuar_acept(sesion_dual)\n",
    "#cerrar_sesion(sesion_dual)"
   ]
  },
  {
   "cell_type": "code",
   "execution_count": 149,
   "metadata": {},
   "outputs": [],
   "source": [
    "def get_gas_table(driver):\n",
    "  html = driver.page_source\n",
    "  soup = BeautifulSoup(html, 'html.parser')\n",
    "  table = soup.find('table')\n",
    "\n",
    "  return table"
   ]
  },
  {
   "cell_type": "code",
   "execution_count": 150,
   "metadata": {},
   "outputs": [
    {
     "name": "stdout",
     "output_type": "stream",
     "text": [
      "None\n"
     ]
    }
   ],
   "source": [
    "tabla = get_gas_table(sesion_gas)\n",
    "print(tabla)"
   ]
  }
 ],
 "metadata": {
  "kernelspec": {
   "display_name": "Python 3.10.8 64-bit (microsoft store)",
   "language": "python",
   "name": "python3"
  },
  "language_info": {
   "codemirror_mode": {
    "name": "ipython",
    "version": 3
   },
   "file_extension": ".py",
   "mimetype": "text/x-python",
   "name": "python",
   "nbconvert_exporter": "python",
   "pygments_lexer": "ipython3",
   "version": "3.10.8"
  },
  "orig_nbformat": 4,
  "vscode": {
   "interpreter": {
    "hash": "8ac413615153002ca502cac2bb19de643f3350f8847e65fbb869d7e7bd173959"
   }
  }
 },
 "nbformat": 4,
 "nbformat_minor": 2
}
