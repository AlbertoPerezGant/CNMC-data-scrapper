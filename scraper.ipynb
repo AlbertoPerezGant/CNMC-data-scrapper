{
 "cells": [
  {
   "cell_type": "code",
   "execution_count": 22,
   "metadata": {},
   "outputs": [],
   "source": [
    "# Importación de liberías\n",
    "import pandas as pd\n",
    "from time import sleep\n",
    "\n",
    "import bs4\n",
    "import requests as rq\n",
    "from bs4 import BeautifulSoup\n",
    "\n",
    "import selenium \n",
    "from selenium import webdriver\n",
    "from selenium.webdriver.common.by import By # Para poder usar el By"
   ]
  },
  {
   "cell_type": "code",
   "execution_count": 23,
   "metadata": {},
   "outputs": [],
   "source": [
    "# Definición de la url base\n",
    "url_base = 'https://comparador.cnmc.gob.es/'"
   ]
  },
  {
   "cell_type": "code",
   "execution_count": 24,
   "metadata": {},
   "outputs": [],
   "source": [
    "#Inicialización driver\n",
    "def init_driver(url):\n",
    "    driver = webdriver.Chrome()\n",
    "    driver.get(url)\n",
    "    return driver"
   ]
  },
  {
   "cell_type": "code",
   "execution_count": 25,
   "metadata": {},
   "outputs": [],
   "source": [
    "#Cierre driver\n",
    "def close_driver(driver):\n",
    "    driver.close()"
   ]
  },
  {
   "cell_type": "code",
   "execution_count": 26,
   "metadata": {},
   "outputs": [],
   "source": [
    "#Aceptación cookies\n",
    "def accept_cookies(driver):\n",
    "    driver.find_element(By.CLASS_NAME,'cookiesjsr-btn.important').click()"
   ]
  },
  {
   "cell_type": "code",
   "execution_count": 27,
   "metadata": {},
   "outputs": [],
   "source": [
    "#Abrir lista de opciones\n",
    "def selecct_sum(driver):\n",
    "    driver.find_element(By.ID, \"input-47\").click()"
   ]
  },
  {
   "cell_type": "code",
   "execution_count": 28,
   "metadata": {},
   "outputs": [],
   "source": [
    "#Selección de ofertas de electricidad en desplegable\n",
    "def select_elect(driver):\n",
    "    driver.find_element(By.ID, \"list-item-59-0\").click()"
   ]
  },
  {
   "cell_type": "code",
   "execution_count": 29,
   "metadata": {},
   "outputs": [],
   "source": [
    "#Selección de ofertas de gas en desplegable\n",
    "def select_gas(driver):\n",
    "    driver.find_element(By.ID, \"list-item-59-1\").click()"
   ]
  },
  {
   "cell_type": "code",
   "execution_count": 30,
   "metadata": {},
   "outputs": [],
   "source": [
    "#Selección de ofertas conjuntas en desplegable\n",
    "def select_both(driver):\n",
    "    driver.find_element(By.ID, \"list-item-59-2\").click()"
   ]
  },
  {
   "cell_type": "code",
   "execution_count": 31,
   "metadata": {},
   "outputs": [],
   "source": [
    "#Selección de boton \"Iniciar\"\n",
    "def iniciar(driver):\n",
    "    driver.find_element(By.ID, \"Iniciar\").click()"
   ]
  },
  {
   "cell_type": "code",
   "execution_count": 32,
   "metadata": {},
   "outputs": [],
   "source": [
    "#Escribe un código postal en formulario electricidad\n",
    "def type_postal_code(driver):\n",
    "    driver.find_element(By.NAME, \"codigoPostal\").click()\n",
    "    driver.find_element(By.NAME, \"codigoPostal\").send_keys(\"08035\")"
   ]
  },
  {
   "cell_type": "code",
   "execution_count": 33,
   "metadata": {},
   "outputs": [],
   "source": [
    "#Continúa desde el formulario hasta la siguiente página\n",
    "def continue_to_page(driver):\n",
    "    driver.find_element(By.ID, \"Continuar\").click()\n",
    "    sleep(1)\n",
    "    driver.find_element(By.CLASS_NAME, \"v-input--selection-controls__ripple\").click()\n",
    "    sleep(1)\n",
    "    driver.find_element(By.XPATH, \"(.//*[normalize-space(text()) and normalize-space(.)='He leído este aviso'])[1]/following::span[2]\").click()\n",
    "    return driver\n"
   ]
  },
  {
   "cell_type": "code",
   "execution_count": 34,
   "metadata": {},
   "outputs": [],
   "source": [
    "#Navegación hasta página de ofertas de electricidad\n",
    "def get_comparator_elect():\n",
    "    driver = init_driver(url_base)\n",
    "    accept_cookies(driver)\n",
    "    selecct_sum(driver)\n",
    "    select_elect(driver)\n",
    "    iniciar(driver)\n",
    "    sleep(3)\n",
    "    type_postal_code(driver)\n",
    "    driver = continue_to_page(driver)\n",
    "    return driver"
   ]
  },
  {
   "cell_type": "code",
   "execution_count": 35,
   "metadata": {},
   "outputs": [],
   "source": [
    "#Naveción hasta página de ofertas combinadas\n",
    "def get_comparator_both():\n",
    "    driver = init_driver(url_base)\n",
    "    accept_cookies(driver)\n",
    "    selecct_sum(driver)\n",
    "    select_both(driver)\n",
    "    iniciar(driver)\n",
    "    sleep(3)\n",
    "    type_postal_code(driver)\n",
    "    continue_to_page(driver)\n",
    "    return driver\n"
   ]
  },
  {
   "cell_type": "code",
   "execution_count": 36,
   "metadata": {},
   "outputs": [],
   "source": [
    "#Extraccion de tabla de ofertas de electricidad\n",
    "def get_elect_table(driver):\n",
    "\n",
    "    html = driver.page_source\n",
    "    soup = BeautifulSoup(html, \"html.parser\")\n",
    "    tables = soup.find_all('table', attrs={'class': ''})\n",
    "\n",
    "    for table in tables[1]:\n",
    "\n",
    "        rows = table.find_all('tr', attrs={'class': ''})\n",
    "        table_list = []\n",
    "\n",
    "        for row in rows:\n",
    "\n",
    "            data = row.find_all('td')\n",
    "            row_list = []\n",
    "\n",
    "            for elem in data:\n",
    "\n",
    "                if data[0] == elem:\n",
    "\n",
    "                    company = elem.find('img').attrs['alt']\n",
    "                    row_list.append(company)\n",
    "                elif data[1] == elem:\n",
    "\n",
    "                    oferta = row.find('a').text.lstrip()\n",
    "                    row_list.append(oferta)\n",
    "                elif data[5] == elem:\n",
    "\n",
    "                    servicios_adicionales = elem.find('div').string\n",
    "                    row_list.append(servicios_adicionales)\n",
    "                elif data[7] == elem:\n",
    "\n",
    "                    eco = elem.find('i').attrs['class'][-1]\n",
    "\n",
    "                    if eco == 'grey--text':\n",
    "                        row_list.append(False)\n",
    "                    elif eco == 'green--text':\n",
    "                        row_list.append(True)\n",
    "                elif data[8] == elem:\n",
    "                    break\n",
    "                else:\n",
    "                    row_list.append(elem.string)\n",
    "\n",
    "            table_list.append(row_list)\n",
    "\n",
    "    df_elect = pd.DataFrame(table_list)\n",
    "    df_elect.columns = ['Comercializadora', 'Oferta', 'Importe primera factura', \n",
    "    'Importe siguientes facturas', 'Validez', 'Servicios adicionales', 'Penalizacion', 'Verde']\n",
    "    \n",
    "    return df_elect"
   ]
  },
  {
   "cell_type": "code",
   "execution_count": 37,
   "metadata": {},
   "outputs": [],
   "source": [
    "#Extraciión de tabla de ofertas conjuntas\n",
    "def get_both_table(driver):\n",
    "    html = driver.page_source\n",
    "    soup = BeautifulSoup(html, \"html.parser\")\n",
    "    tables = soup.find_all('table')\n",
    "\n",
    "    for table in tables[0]:\n",
    "\n",
    "        rows = table.find_all('tr', attrs={'class': ''})\n",
    "        table_list = []\n",
    "        for row in rows:\n",
    "\n",
    "            data = row.find_all('td')\n",
    "            row_list = []\n",
    "\n",
    "            for elem in data:\n",
    "\n",
    "                if data[0] == elem:\n",
    "\n",
    "                    company = elem.find('img').attrs['alt']\n",
    "                    row_list.append(company)\n",
    "                elif data[1] == elem:\n",
    "\n",
    "                    oferta = row.find('a').text.lstrip()\n",
    "                    row_list.append(oferta)\n",
    "                elif data[5] == elem:\n",
    "\n",
    "                    servicios_adicionales = elem.find('div').string\n",
    "                    row_list.append(servicios_adicionales)\n",
    "                elif data[7] == elem:\n",
    "\n",
    "                    eco = elem.find('i').attrs['class'][-1]\n",
    "\n",
    "                    if eco == 'grey--text':\n",
    "                        row_list.append(False)\n",
    "                    elif eco == 'green--text':\n",
    "                        row_list.append(True)\n",
    "                elif data[8] == elem:\n",
    "                    break\n",
    "                else:\n",
    "                    row_list.append(elem.string)\n",
    "            \n",
    "            table_list.append(row_list)\n",
    "    df_both = pd.DataFrame(table_list)\n",
    "    df_both.columns = ['Comercializadora', 'Oferta', 'Importe primer año', \n",
    "    'Importe 2o año', 'Validez', 'Servicios adicionales', 'Penalizacion', 'Verde']\n",
    "\n",
    "    return df_both\n"
   ]
  },
  {
   "cell_type": "code",
   "execution_count": 38,
   "metadata": {},
   "outputs": [],
   "source": [
    "#Scraping CNMC ofertas electricidad\n",
    "def elect_scrap():\n",
    "\n",
    "    driver_elect = get_comparator_elect()\n",
    "    sleep(5)\n",
    "    df_elect = get_elect_table(driver_elect)\n",
    "    sleep(5)\n",
    "    close_driver(driver_elect)\n",
    "    return df_elect"
   ]
  },
  {
   "cell_type": "code",
   "execution_count": 39,
   "metadata": {},
   "outputs": [],
   "source": [
    "#Scraping CNMC ofertas conjuntas\n",
    "def both_scrap():\n",
    "\n",
    "    driver_both = get_comparator_both()\n",
    "    sleep(5)\n",
    "    df_both = get_both_table(driver_both)\n",
    "    sleep(5)\n",
    "    close_driver(driver_both)\n",
    "    return df_both"
   ]
  },
  {
   "cell_type": "code",
   "execution_count": 40,
   "metadata": {},
   "outputs": [
    {
     "ename": "KeyboardInterrupt",
     "evalue": "",
     "output_type": "error",
     "traceback": [
      "\u001b[0;31m---------------------------------------------------------------------------\u001b[0m",
      "\u001b[0;31mKeyboardInterrupt\u001b[0m                         Traceback (most recent call last)",
      "\u001b[1;32m/Users/alpegan/Documents/MsC Data Science/Tipología de Datos/PRA1/scraper.ipynb Celda 19\u001b[0m in \u001b[0;36m<cell line: 1>\u001b[0;34m()\u001b[0m\n\u001b[0;32m----> <a href='vscode-notebook-cell:/Users/alpegan/Documents/MsC%20Data%20Science/Tipolog%C3%ADa%20de%20Datos/PRA1/scraper.ipynb#X45sZmlsZQ%3D%3D?line=0'>1</a>\u001b[0m df_elect \u001b[39m=\u001b[39m elect_scrap()\n\u001b[1;32m      <a href='vscode-notebook-cell:/Users/alpegan/Documents/MsC%20Data%20Science/Tipolog%C3%ADa%20de%20Datos/PRA1/scraper.ipynb#X45sZmlsZQ%3D%3D?line=1'>2</a>\u001b[0m df_both \u001b[39m=\u001b[39m both_scrap()\n",
      "\u001b[1;32m/Users/alpegan/Documents/MsC Data Science/Tipología de Datos/PRA1/scraper.ipynb Celda 19\u001b[0m in \u001b[0;36melect_scrap\u001b[0;34m()\u001b[0m\n\u001b[1;32m      <a href='vscode-notebook-cell:/Users/alpegan/Documents/MsC%20Data%20Science/Tipolog%C3%ADa%20de%20Datos/PRA1/scraper.ipynb#X45sZmlsZQ%3D%3D?line=1'>2</a>\u001b[0m \u001b[39mdef\u001b[39;00m \u001b[39melect_scrap\u001b[39m():\n\u001b[0;32m----> <a href='vscode-notebook-cell:/Users/alpegan/Documents/MsC%20Data%20Science/Tipolog%C3%ADa%20de%20Datos/PRA1/scraper.ipynb#X45sZmlsZQ%3D%3D?line=3'>4</a>\u001b[0m     driver_elect \u001b[39m=\u001b[39m get_comparator_elect()\n\u001b[1;32m      <a href='vscode-notebook-cell:/Users/alpegan/Documents/MsC%20Data%20Science/Tipolog%C3%ADa%20de%20Datos/PRA1/scraper.ipynb#X45sZmlsZQ%3D%3D?line=4'>5</a>\u001b[0m     sleep(\u001b[39m5\u001b[39m)\n\u001b[1;32m      <a href='vscode-notebook-cell:/Users/alpegan/Documents/MsC%20Data%20Science/Tipolog%C3%ADa%20de%20Datos/PRA1/scraper.ipynb#X45sZmlsZQ%3D%3D?line=5'>6</a>\u001b[0m     df_elect \u001b[39m=\u001b[39m get_elect_table(driver_elect)\n",
      "\u001b[1;32m/Users/alpegan/Documents/MsC Data Science/Tipología de Datos/PRA1/scraper.ipynb Celda 19\u001b[0m in \u001b[0;36mget_comparator_elect\u001b[0;34m()\u001b[0m\n\u001b[1;32m      <a href='vscode-notebook-cell:/Users/alpegan/Documents/MsC%20Data%20Science/Tipolog%C3%ADa%20de%20Datos/PRA1/scraper.ipynb#X45sZmlsZQ%3D%3D?line=7'>8</a>\u001b[0m sleep(\u001b[39m3\u001b[39m)\n\u001b[1;32m      <a href='vscode-notebook-cell:/Users/alpegan/Documents/MsC%20Data%20Science/Tipolog%C3%ADa%20de%20Datos/PRA1/scraper.ipynb#X45sZmlsZQ%3D%3D?line=8'>9</a>\u001b[0m type_postal_code(driver)\n\u001b[0;32m---> <a href='vscode-notebook-cell:/Users/alpegan/Documents/MsC%20Data%20Science/Tipolog%C3%ADa%20de%20Datos/PRA1/scraper.ipynb#X45sZmlsZQ%3D%3D?line=9'>10</a>\u001b[0m driver \u001b[39m=\u001b[39m continue_to_page(driver)\n\u001b[1;32m     <a href='vscode-notebook-cell:/Users/alpegan/Documents/MsC%20Data%20Science/Tipolog%C3%ADa%20de%20Datos/PRA1/scraper.ipynb#X45sZmlsZQ%3D%3D?line=10'>11</a>\u001b[0m \u001b[39mreturn\u001b[39;00m driver\n",
      "\u001b[1;32m/Users/alpegan/Documents/MsC Data Science/Tipología de Datos/PRA1/scraper.ipynb Celda 19\u001b[0m in \u001b[0;36mcontinue_to_page\u001b[0;34m(driver)\u001b[0m\n\u001b[1;32m      <a href='vscode-notebook-cell:/Users/alpegan/Documents/MsC%20Data%20Science/Tipolog%C3%ADa%20de%20Datos/PRA1/scraper.ipynb#X45sZmlsZQ%3D%3D?line=1'>2</a>\u001b[0m \u001b[39mdef\u001b[39;00m \u001b[39mcontinue_to_page\u001b[39m(driver):\n\u001b[1;32m      <a href='vscode-notebook-cell:/Users/alpegan/Documents/MsC%20Data%20Science/Tipolog%C3%ADa%20de%20Datos/PRA1/scraper.ipynb#X45sZmlsZQ%3D%3D?line=2'>3</a>\u001b[0m     driver\u001b[39m.\u001b[39mfind_element(By\u001b[39m.\u001b[39mID, \u001b[39m\"\u001b[39m\u001b[39mContinuar\u001b[39m\u001b[39m\"\u001b[39m)\u001b[39m.\u001b[39mclick()\n\u001b[0;32m----> <a href='vscode-notebook-cell:/Users/alpegan/Documents/MsC%20Data%20Science/Tipolog%C3%ADa%20de%20Datos/PRA1/scraper.ipynb#X45sZmlsZQ%3D%3D?line=3'>4</a>\u001b[0m     sleep(\u001b[39m1\u001b[39;49m)\n\u001b[1;32m      <a href='vscode-notebook-cell:/Users/alpegan/Documents/MsC%20Data%20Science/Tipolog%C3%ADa%20de%20Datos/PRA1/scraper.ipynb#X45sZmlsZQ%3D%3D?line=4'>5</a>\u001b[0m     driver\u001b[39m.\u001b[39mfind_element(By\u001b[39m.\u001b[39mCLASS_NAME, \u001b[39m\"\u001b[39m\u001b[39mv-input--selection-controls__ripple\u001b[39m\u001b[39m\"\u001b[39m)\u001b[39m.\u001b[39mclick()\n\u001b[1;32m      <a href='vscode-notebook-cell:/Users/alpegan/Documents/MsC%20Data%20Science/Tipolog%C3%ADa%20de%20Datos/PRA1/scraper.ipynb#X45sZmlsZQ%3D%3D?line=5'>6</a>\u001b[0m     sleep(\u001b[39m1\u001b[39m)\n",
      "\u001b[0;31mKeyboardInterrupt\u001b[0m: "
     ]
    }
   ],
   "source": [
    "\n",
    "df_elect = elect_scrap()\n",
    "df_both = both_scrap()"
   ]
  },
  {
   "cell_type": "code",
   "execution_count": null,
   "metadata": {},
   "outputs": [],
   "source": [
    "driver_elect = get_comparator_elect()\n",
    "sleep(5)\n",
    "df_elect = get_elect_table(driver_elect)\n",
    "sleep(5)\n",
    "close_driver(driver_elect)\n",
    "\n",
    "#get_comparator_gas()\n",
    "#df_gas =get_gas_table()\n",
    "#close_driver(driver)\n",
    "\n",
    "driver_both = get_comparator_both()\n",
    "sleep(5)\n",
    "df_both = get_both_table(driver_both)\n",
    "sleep(5)\n",
    "close_driver(driver_both)"
   ]
  }
 ],
 "metadata": {
  "kernelspec": {
   "display_name": "Python 3.9.12 ('base')",
   "language": "python",
   "name": "python3"
  },
  "language_info": {
   "codemirror_mode": {
    "name": "ipython",
    "version": 3
   },
   "file_extension": ".py",
   "mimetype": "text/x-python",
   "name": "python",
   "nbconvert_exporter": "python",
   "pygments_lexer": "ipython3",
   "version": "3.9.12"
  },
  "orig_nbformat": 4,
  "vscode": {
   "interpreter": {
    "hash": "3075312945dca7fe4aebc0709f637e4310dcc6cf126f7e9f7e0788c228485197"
   }
  }
 },
 "nbformat": 4,
 "nbformat_minor": 2
}
