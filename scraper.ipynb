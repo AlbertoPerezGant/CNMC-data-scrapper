{
 "cells": [
  {
   "cell_type": "code",
   "execution_count": 1,
   "metadata": {},
   "outputs": [],
   "source": [
    "# Importación de liberías\n",
    "import pandas as pd\n",
    "from time import sleep\n",
    "\n",
    "import bs4\n",
    "import requests as rq\n",
    "from bs4 import BeautifulSoup\n",
    "\n",
    "import selenium \n",
    "from selenium import webdriver\n",
    "from selenium.webdriver.common.by import By # Para poder usar el By"
   ]
  },
  {
   "cell_type": "code",
   "execution_count": 2,
   "metadata": {},
   "outputs": [],
   "source": [
    "# Definición de la url base\n",
    "url_base = 'https://comparador.cnmc.gob.es/'"
   ]
  },
  {
   "cell_type": "code",
   "execution_count": 3,
   "metadata": {},
   "outputs": [],
   "source": [
    "#Inicialización driver\n",
    "def init_driver(url):\n",
    "    driver = webdriver.Chrome()\n",
    "    driver.get(url)\n",
    "    return driver"
   ]
  },
  {
   "cell_type": "code",
   "execution_count": 4,
   "metadata": {},
   "outputs": [],
   "source": [
    "#Cierre driver\n",
    "def close_driver(driver):\n",
    "    driver.close()"
   ]
  },
  {
   "cell_type": "code",
   "execution_count": 5,
   "metadata": {},
   "outputs": [],
   "source": [
    "#Aceptación cookies\n",
    "def accept_cookies(driver):\n",
    "    driver.find_element(By.CLASS_NAME,'cookiesjsr-btn.important').click()"
   ]
  },
  {
   "cell_type": "code",
   "execution_count": 6,
   "metadata": {},
   "outputs": [],
   "source": [
    "#Abrir lista de opciones\n",
    "def selecct_sum(driver):\n",
    "    driver.find_element(By.ID, \"input-47\").click()"
   ]
  },
  {
   "cell_type": "code",
   "execution_count": 7,
   "metadata": {},
   "outputs": [],
   "source": [
    "#Selección de ofertas de electricidad en desplegable\n",
    "def select_elect(driver):\n",
    "    driver.find_element(By.ID, \"list-item-59-0\").click()"
   ]
  },
  {
   "cell_type": "code",
   "execution_count": 8,
   "metadata": {},
   "outputs": [],
   "source": [
    "#Selección de ofertas de electricidad en desplegable\n",
    "def select_gas(driver):\n",
    "    driver.find_element(By.ID, \"list-item-59-1\").click()"
   ]
  },
  {
   "cell_type": "code",
   "execution_count": 9,
   "metadata": {},
   "outputs": [],
   "source": [
    "#Selección de ofertas de electricidad en desplegable\n",
    "def select_both(driver):\n",
    "    driver.find_element(By.ID, \"list-item-59-2\").click()"
   ]
  },
  {
   "cell_type": "code",
   "execution_count": 10,
   "metadata": {},
   "outputs": [],
   "source": [
    "#Selección de boton \"Iniciar\"\n",
    "def iniciar(driver):\n",
    "    driver.find_element(By.ID, \"Iniciar\").click()"
   ]
  },
  {
   "cell_type": "code",
   "execution_count": 11,
   "metadata": {},
   "outputs": [],
   "source": [
    "#Escribe un código postal en formulario electricidad\n",
    "def type_postal_code(driver):\n",
    "    driver.find_element(By.NAME, \"codigoPostal\").click()\n",
    "    driver.find_element(By.NAME, \"codigoPostal\").send_keys(\"08035\")"
   ]
  },
  {
   "cell_type": "code",
   "execution_count": 12,
   "metadata": {},
   "outputs": [],
   "source": [
    "#Continúa desde el formulario hasta la siguiente página\n",
    "def continue_to_page(driver):\n",
    "    driver.find_element(By.ID, \"Continuar\").click()\n",
    "    sleep(1)\n",
    "    driver.find_element(By.CLASS_NAME, \"v-input--selection-controls__ripple\").click()\n",
    "    sleep(1)\n",
    "    driver.find_element(By.XPATH, \"(.//*[normalize-space(text()) and normalize-space(.)='He leído este aviso'])[1]/following::span[2]\").click()\n",
    "    return driver\n"
   ]
  },
  {
   "cell_type": "code",
   "execution_count": 13,
   "metadata": {},
   "outputs": [],
   "source": [
    "#Navegación hasta página de ofertas de electricidad\n",
    "def get_comparator_elect():\n",
    "    driver = init_driver(url_base)\n",
    "    accept_cookies(driver)\n",
    "    selecct_sum(driver)\n",
    "    select_elect(driver)\n",
    "    iniciar(driver)\n",
    "    sleep(3)\n",
    "    type_postal_code(driver)\n",
    "    driver = continue_to_page(driver)\n",
    "    return driver"
   ]
  },
  {
   "cell_type": "code",
   "execution_count": 19,
   "metadata": {},
   "outputs": [],
   "source": [
    "#Naveción hasta página de ofertas combinadas\n",
    "def get_comparator_both():\n",
    "    driver = init_driver(url_base)\n",
    "    accept_cookies(driver)\n",
    "    selecct_sum(driver)\n",
    "    select_both(driver)\n",
    "    iniciar(driver)\n",
    "    sleep(3)\n",
    "    type_postal_code(driver)\n",
    "    continue_to_page(driver)\n",
    "    return driver\n"
   ]
  },
  {
   "cell_type": "code",
   "execution_count": 24,
   "metadata": {},
   "outputs": [],
   "source": [
    "#Extraccion de tabla de ofertas de electricidad\n",
    "def get_elect_table(driver):\n",
    "\n",
    "    html = driver.page_source\n",
    "    soup = BeautifulSoup(html, \"html.parser\")\n",
    "    tables = soup.find_all('table', attrs={'class': ''})\n",
    "\n",
    "    for table in tables[1]:\n",
    "\n",
    "        rows = table.find_all('tr', attrs={'class': ''})\n",
    "        table_list = []\n",
    "\n",
    "        for row in rows:\n",
    "\n",
    "            data = row.find_all('td')\n",
    "            row_list = []\n",
    "\n",
    "            for elem in data:\n",
    "\n",
    "                if data[0] == elem:\n",
    "\n",
    "                    company = elem.find('img').attrs['alt']\n",
    "                    row_list.append(company)\n",
    "                elif data[1] == elem:\n",
    "\n",
    "                    oferta = row.find('a').text.lstrip()\n",
    "                    row_list.append(oferta)\n",
    "                elif data[5] == elem:\n",
    "\n",
    "                    servicios_adicionales = elem.find('div').string\n",
    "                    row_list.append(servicios_adicionales)\n",
    "                elif data[7] == elem:\n",
    "\n",
    "                    eco = elem.find('i').attrs['class'][-1]\n",
    "\n",
    "                    if eco == 'grey--text':\n",
    "                        row_list.append(False)\n",
    "                    elif eco == 'green--text':\n",
    "                        row_list.append(True)\n",
    "                elif data[8] == elem:\n",
    "                    break\n",
    "                else:\n",
    "                    row_list.append(elem.string)\n",
    "\n",
    "            table_list.append(row_list)\n",
    "\n",
    "    df_elect = pd.DataFrame(table_list)\n",
    "    df_elect.columns = ['Comercializadora', 'Oferta', 'Importe primera factura', \n",
    "    'Importe siguientes facturas', 'Validez', 'Servicios adicionales', 'Penalizacion', 'Verde']\n",
    "    \n",
    "    return df_elect"
   ]
  },
  {
   "cell_type": "code",
   "execution_count": 26,
   "metadata": {},
   "outputs": [],
   "source": [
    "driver_elect = get_comparator_elect()\n",
    "sleep(5)\n",
    "df_elect = get_elect_table(driver_elect)\n",
    "sleep(5)\n",
    "close_driver(driver_elect)"
   ]
  },
  {
   "cell_type": "code",
   "execution_count": null,
   "metadata": {},
   "outputs": [],
   "source": [
    "driver_elect = get_comparator_elect()\n",
    "df_elect = get_elect_table(driver_elect)\n",
    "sleep(5)\n",
    "close_driver(driver_elect)\n",
    "\n",
    "#get_comparator_gas()\n",
    "#df_gas =get_gas_table()\n",
    "#close_driver(driver)\n",
    "\n",
    "driver_both = get_comparator_both()\n",
    "#df_both = get_both_table(driver_both)\n",
    "sleep(5)\n",
    "close_driver(driver_both)"
   ]
  }
 ],
 "metadata": {
  "kernelspec": {
   "display_name": "Python 3.9.12 ('base')",
   "language": "python",
   "name": "python3"
  },
  "language_info": {
   "codemirror_mode": {
    "name": "ipython",
    "version": 3
   },
   "file_extension": ".py",
   "mimetype": "text/x-python",
   "name": "python",
   "nbconvert_exporter": "python",
   "pygments_lexer": "ipython3",
   "version": "3.9.12"
  },
  "orig_nbformat": 4,
  "vscode": {
   "interpreter": {
    "hash": "3075312945dca7fe4aebc0709f637e4310dcc6cf126f7e9f7e0788c228485197"
   }
  }
 },
 "nbformat": 4,
 "nbformat_minor": 2
}
