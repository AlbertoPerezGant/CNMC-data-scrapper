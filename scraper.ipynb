{
 "cells": [
  {
   "cell_type": "code",
   "execution_count": 6,
   "metadata": {},
   "outputs": [],
   "source": [
    "# Importación de liberías\n",
    "import pandas as pd\n",
    "from time import sleep\n",
    "\n",
    "import bs4\n",
    "import requests as rq\n",
    "from bs4 import BeautifulSoup\n",
    "\n",
    "import selenium \n",
    "from selenium import webdriver\n",
    "from selenium.webdriver.common.by import By # Para poder usar el By"
   ]
  },
  {
   "cell_type": "code",
   "execution_count": 7,
   "metadata": {},
   "outputs": [],
   "source": [
    "# Definición de la url base\n",
    "url_base = 'https://comparador.cnmc.gob.es/'"
   ]
  },
  {
   "cell_type": "code",
   "execution_count": 8,
   "metadata": {},
   "outputs": [],
   "source": [
    "#Inicialización driver\n",
    "def init_driver(url):\n",
    "    driver = webdriver.Chrome()\n",
    "    driver.get(url)\n",
    "    return driver"
   ]
  },
  {
   "cell_type": "code",
   "execution_count": 9,
   "metadata": {},
   "outputs": [],
   "source": [
    "#Cierre driver\n",
    "def close_driver(driver):\n",
    "    driver.close()"
   ]
  },
  {
   "cell_type": "code",
   "execution_count": 10,
   "metadata": {},
   "outputs": [],
   "source": [
    "#Aceptación cookies\n",
    "def accept_cookies(driver):\n",
    "    driver.find_element(By.CLASS_NAME,'cookiesjsr-btn.important').click()"
   ]
  },
  {
   "cell_type": "code",
   "execution_count": 11,
   "metadata": {},
   "outputs": [],
   "source": [
    "#Abrir lista de opciones\n",
    "def selecct_sum(driver):\n",
    "    driver.find_element(By.ID, \"input-47\").click()"
   ]
  },
  {
   "cell_type": "code",
   "execution_count": 12,
   "metadata": {},
   "outputs": [],
   "source": [
    "#Selección de ofertas de electricidad en desplegable\n",
    "def select_elect(driver):\n",
    "    driver.find_element(By.ID, \"list-item-59-0\").click()"
   ]
  },
  {
   "cell_type": "code",
   "execution_count": 13,
   "metadata": {},
   "outputs": [],
   "source": [
    "#Selección de ofertas de electricidad en desplegable\n",
    "def select_gas(driver):\n",
    "    driver.find_element(By.ID, \"list-item-59-1\").click()"
   ]
  },
  {
   "cell_type": "code",
   "execution_count": 14,
   "metadata": {},
   "outputs": [],
   "source": [
    "#Selección de ofertas de electricidad en desplegable\n",
    "def select_both(driver):\n",
    "    driver.find_element(By.ID, \"list-item-59-2\").click()"
   ]
  },
  {
   "cell_type": "code",
   "execution_count": 15,
   "metadata": {},
   "outputs": [],
   "source": [
    "#Selección de boton \"Iniciar\"\n",
    "def iniciar(driver):\n",
    "    driver.find_element(By.ID, \"Iniciar\").click()"
   ]
  },
  {
   "cell_type": "code",
   "execution_count": 16,
   "metadata": {},
   "outputs": [],
   "source": [
    "#Escribe un código postal en formulario electricidad\n",
    "def type_postal_code(driver):\n",
    "    driver.find_element(By.NAME, \"codigoPostal\").click()\n",
    "    driver.find_element(By.NAME, \"codigoPostal\").send_keys(\"08035\")"
   ]
  },
  {
   "cell_type": "code",
   "execution_count": 17,
   "metadata": {},
   "outputs": [],
   "source": [
    "#Continúa desde el formulario hasta la siguiente página\n",
    "def continue_to_page(driver):\n",
    "    driver.find_element(By.ID, \"Continuar\").click()\n",
    "    sleep(1)\n",
    "    driver.find_element(By.CLASS_NAME, \"v-input--selection-controls__ripple\").click()\n",
    "    sleep(1)\n",
    "    driver.find_element(By.XPATH, \"(.//*[normalize-space(text()) and normalize-space(.)='He leído este aviso'])[1]/following::span[2]\").click()\n",
    "    return driver\n"
   ]
  },
  {
   "cell_type": "code",
   "execution_count": 18,
   "metadata": {},
   "outputs": [],
   "source": [
    "def get_comparator_elect():\n",
    "    driver = init_driver(url_base)\n",
    "    accept_cookies(driver)\n",
    "    selecct_sum(driver)\n",
    "    select_elect(driver)\n",
    "    iniciar(driver)\n",
    "    sleep(3)\n",
    "    type_postal_code(driver)\n",
    "    driver = continue_to_page(driver)\n",
    "    return driver"
   ]
  },
  {
   "cell_type": "code",
   "execution_count": 19,
   "metadata": {},
   "outputs": [],
   "source": [
    "#Naveción hasta página de ofertas combinadas\n",
    "def get_comparator_both():\n",
    "    driver = init_driver(url_base)\n",
    "    accept_cookies(driver)\n",
    "    selecct_sum(driver)\n",
    "    select_both(driver)\n",
    "    iniciar(driver)\n",
    "    sleep(3)\n",
    "    type_postal_code(driver)\n",
    "    continue_to_page(driver)\n",
    "    return driver\n"
   ]
  },
  {
   "cell_type": "code",
   "execution_count": 26,
   "metadata": {},
   "outputs": [],
   "source": [
    "def get_elect_table(driver):\n",
    "\n",
    "    table = driver.find_element(By.CLASS_NAME, \"v-data-table__wrapper\")\n",
    "    print(table)"
   ]
  },
  {
   "cell_type": "code",
   "execution_count": 25,
   "metadata": {},
   "outputs": [
    {
     "ename": "AttributeError",
     "evalue": "'WebDriver' object has no attribute 'content'",
     "output_type": "error",
     "traceback": [
      "\u001b[0;31m---------------------------------------------------------------------------\u001b[0m",
      "\u001b[0;31mAttributeError\u001b[0m                            Traceback (most recent call last)",
      "\u001b[1;32m/Users/alpegan/Documents/MsC Data Science/Tipología de Datos/PRA1/scraper.ipynb Celda 16\u001b[0m in \u001b[0;36m<cell line: 2>\u001b[0;34m()\u001b[0m\n\u001b[1;32m      <a href='vscode-notebook-cell:/Users/alpegan/Documents/MsC%20Data%20Science/Tipolog%C3%ADa%20de%20Datos/PRA1/scraper.ipynb#X26sZmlsZQ%3D%3D?line=0'>1</a>\u001b[0m driver_elect \u001b[39m=\u001b[39m get_comparator_elect()\n\u001b[0;32m----> <a href='vscode-notebook-cell:/Users/alpegan/Documents/MsC%20Data%20Science/Tipolog%C3%ADa%20de%20Datos/PRA1/scraper.ipynb#X26sZmlsZQ%3D%3D?line=1'>2</a>\u001b[0m df_elect \u001b[39m=\u001b[39m get_elect_table(driver_elect)\n",
      "\u001b[1;32m/Users/alpegan/Documents/MsC Data Science/Tipología de Datos/PRA1/scraper.ipynb Celda 16\u001b[0m in \u001b[0;36mget_elect_table\u001b[0;34m(driver)\u001b[0m\n\u001b[1;32m      <a href='vscode-notebook-cell:/Users/alpegan/Documents/MsC%20Data%20Science/Tipolog%C3%ADa%20de%20Datos/PRA1/scraper.ipynb#X26sZmlsZQ%3D%3D?line=0'>1</a>\u001b[0m \u001b[39mdef\u001b[39;00m \u001b[39mget_elect_table\u001b[39m(driver):\n\u001b[0;32m----> <a href='vscode-notebook-cell:/Users/alpegan/Documents/MsC%20Data%20Science/Tipolog%C3%ADa%20de%20Datos/PRA1/scraper.ipynb#X26sZmlsZQ%3D%3D?line=1'>2</a>\u001b[0m     soup \u001b[39m=\u001b[39m BeautifulSoup(driver\u001b[39m.\u001b[39;49mcontent, \u001b[39m\"\u001b[39m\u001b[39mhtml.parser\u001b[39m\u001b[39m\"\u001b[39m)\n\u001b[1;32m      <a href='vscode-notebook-cell:/Users/alpegan/Documents/MsC%20Data%20Science/Tipolog%C3%ADa%20de%20Datos/PRA1/scraper.ipynb#X26sZmlsZQ%3D%3D?line=3'>4</a>\u001b[0m     table \u001b[39m=\u001b[39m soup\u001b[39m.\u001b[39mfind(\u001b[39m'\u001b[39m\u001b[39mtable\u001b[39m\u001b[39m'\u001b[39m, attrs\u001b[39m=\u001b[39m{\u001b[39m'\u001b[39m\u001b[39mclass\u001b[39m\u001b[39m'\u001b[39m: \u001b[39m'\u001b[39m\u001b[39mv-data-table__wrapper\u001b[39m\u001b[39m'\u001b[39m})\n\u001b[1;32m      <a href='vscode-notebook-cell:/Users/alpegan/Documents/MsC%20Data%20Science/Tipolog%C3%ADa%20de%20Datos/PRA1/scraper.ipynb#X26sZmlsZQ%3D%3D?line=4'>5</a>\u001b[0m     \u001b[39mprint\u001b[39m(table)\n",
      "\u001b[0;31mAttributeError\u001b[0m: 'WebDriver' object has no attribute 'content'"
     ]
    }
   ],
   "source": [
    "driver_elect = get_comparator_elect()\n"
   ]
  },
  {
   "cell_type": "code",
   "execution_count": 28,
   "metadata": {},
   "outputs": [
    {
     "name": "stdout",
     "output_type": "stream",
     "text": [
      "<selenium.webdriver.remote.webelement.WebElement (session=\"742c1b2b53d33ee6317f903c2f5029a8\", element=\"98790413-c851-44a6-89b3-23afd7d00dcd\")>\n"
     ]
    }
   ],
   "source": [
    "get_elect_table(driver_elect)"
   ]
  },
  {
   "cell_type": "code",
   "execution_count": null,
   "metadata": {},
   "outputs": [],
   "source": [
    "driver_elect = get_comparator_elect()\n",
    "#df_elect = get_elect_table(driver_elect)\n",
    "sleep(5)\n",
    "close_driver(driver_elect)\n",
    "\n",
    "#get_comparator_gas()\n",
    "#df_gas =get_gas_table()\n",
    "#close_driver(driver)\n",
    "\n",
    "driver_both = get_comparator_both()\n",
    "#df_both = get_both_table(driver_both)\n",
    "sleep(5)\n",
    "close_driver(driver_both)"
   ]
  }
 ],
 "metadata": {
  "kernelspec": {
   "display_name": "Python 3.9.12 ('base')",
   "language": "python",
   "name": "python3"
  },
  "language_info": {
   "codemirror_mode": {
    "name": "ipython",
    "version": 3
   },
   "file_extension": ".py",
   "mimetype": "text/x-python",
   "name": "python",
   "nbconvert_exporter": "python",
   "pygments_lexer": "ipython3",
   "version": "3.9.12"
  },
  "orig_nbformat": 4,
  "vscode": {
   "interpreter": {
    "hash": "3075312945dca7fe4aebc0709f637e4310dcc6cf126f7e9f7e0788c228485197"
   }
  }
 },
 "nbformat": 4,
 "nbformat_minor": 2
}
